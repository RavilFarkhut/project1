{
 "cells": [
  {
   "cell_type": "code",
   "execution_count": 3,
   "id": "21db4e4c",
   "metadata": {},
   "outputs": [],
   "source": [
    "import pandas as pd\n",
    "import matplotlib.pyplot as plt\n",
    "from sklearn.linear_model import LinearRegression"
   ]
  },
  {
   "cell_type": "code",
   "execution_count": 5,
   "id": "4c7d0389",
   "metadata": {},
   "outputs": [
    {
     "data": {
      "text/html": [
       "<div>\n",
       "<style scoped>\n",
       "    .dataframe tbody tr th:only-of-type {\n",
       "        vertical-align: middle;\n",
       "    }\n",
       "\n",
       "    .dataframe tbody tr th {\n",
       "        vertical-align: top;\n",
       "    }\n",
       "\n",
       "    .dataframe thead th {\n",
       "        text-align: right;\n",
       "    }\n",
       "</style>\n",
       "<table border=\"1\" class=\"dataframe\">\n",
       "  <thead>\n",
       "    <tr style=\"text-align: right;\">\n",
       "      <th></th>\n",
       "      <th>rank</th>\n",
       "      <th>release_date</th>\n",
       "      <th>title</th>\n",
       "      <th>url</th>\n",
       "      <th>production_cost</th>\n",
       "      <th>domestic_gross</th>\n",
       "      <th>worldwide_gross</th>\n",
       "      <th>opening_weekend</th>\n",
       "      <th>mpaa</th>\n",
       "      <th>genre</th>\n",
       "      <th>theaters</th>\n",
       "      <th>runtime</th>\n",
       "      <th>year</th>\n",
       "    </tr>\n",
       "  </thead>\n",
       "  <tbody>\n",
       "    <tr>\n",
       "      <th>0</th>\n",
       "      <td>1</td>\n",
       "      <td>2019-04-23</td>\n",
       "      <td>Avengers: Endgame</td>\n",
       "      <td>/movie/Avengers-Endgame-(2019)#tab=summary</td>\n",
       "      <td>400000000</td>\n",
       "      <td>858373000</td>\n",
       "      <td>2797800564</td>\n",
       "      <td>357115007.0</td>\n",
       "      <td>PG-13</td>\n",
       "      <td>Action</td>\n",
       "      <td>4662.0</td>\n",
       "      <td>181.0</td>\n",
       "      <td>2019.0</td>\n",
       "    </tr>\n",
       "    <tr>\n",
       "      <th>1</th>\n",
       "      <td>2</td>\n",
       "      <td>2011-05-20</td>\n",
       "      <td>Pirates of the Caribbean: On Stranger Tides</td>\n",
       "      <td>/movie/Pirates-of-the-Caribbean-On-Stranger-Ti...</td>\n",
       "      <td>379000000</td>\n",
       "      <td>241071802</td>\n",
       "      <td>1045713802</td>\n",
       "      <td>90151958.0</td>\n",
       "      <td>PG-13</td>\n",
       "      <td>Adventure</td>\n",
       "      <td>4164.0</td>\n",
       "      <td>136.0</td>\n",
       "      <td>2011.0</td>\n",
       "    </tr>\n",
       "    <tr>\n",
       "      <th>2</th>\n",
       "      <td>3</td>\n",
       "      <td>2015-04-22</td>\n",
       "      <td>Avengers: Age of Ultron</td>\n",
       "      <td>/movie/Avengers-Age-of-Ultron#tab=summary</td>\n",
       "      <td>365000000</td>\n",
       "      <td>459005868</td>\n",
       "      <td>1395316979</td>\n",
       "      <td>191271109.0</td>\n",
       "      <td>PG-13</td>\n",
       "      <td>Action</td>\n",
       "      <td>4276.0</td>\n",
       "      <td>141.0</td>\n",
       "      <td>2015.0</td>\n",
       "    </tr>\n",
       "    <tr>\n",
       "      <th>3</th>\n",
       "      <td>4</td>\n",
       "      <td>2015-12-16</td>\n",
       "      <td>Star Wars Ep. VII: The Force Awakens</td>\n",
       "      <td>/movie/Star-Wars-Ep-VII-The-Force-Awakens#tab=...</td>\n",
       "      <td>306000000</td>\n",
       "      <td>936662225</td>\n",
       "      <td>2064615817</td>\n",
       "      <td>247966675.0</td>\n",
       "      <td>PG-13</td>\n",
       "      <td>Adventure</td>\n",
       "      <td>4134.0</td>\n",
       "      <td>136.0</td>\n",
       "      <td>2015.0</td>\n",
       "    </tr>\n",
       "    <tr>\n",
       "      <th>4</th>\n",
       "      <td>5</td>\n",
       "      <td>2018-04-25</td>\n",
       "      <td>Avengers: Infinity War</td>\n",
       "      <td>/movie/Avengers-Infinity-War#tab=summary</td>\n",
       "      <td>300000000</td>\n",
       "      <td>678815482</td>\n",
       "      <td>2048359754</td>\n",
       "      <td>257698183.0</td>\n",
       "      <td>PG-13</td>\n",
       "      <td>Action</td>\n",
       "      <td>4474.0</td>\n",
       "      <td>156.0</td>\n",
       "      <td>2018.0</td>\n",
       "    </tr>\n",
       "  </tbody>\n",
       "</table>\n",
       "</div>"
      ],
      "text/plain": [
       "   rank release_date                                        title  \\\n",
       "0     1   2019-04-23                            Avengers: Endgame   \n",
       "1     2   2011-05-20  Pirates of the Caribbean: On Stranger Tides   \n",
       "2     3   2015-04-22                      Avengers: Age of Ultron   \n",
       "3     4   2015-12-16         Star Wars Ep. VII: The Force Awakens   \n",
       "4     5   2018-04-25                       Avengers: Infinity War   \n",
       "\n",
       "                                                 url  production_cost  \\\n",
       "0         /movie/Avengers-Endgame-(2019)#tab=summary        400000000   \n",
       "1  /movie/Pirates-of-the-Caribbean-On-Stranger-Ti...        379000000   \n",
       "2          /movie/Avengers-Age-of-Ultron#tab=summary        365000000   \n",
       "3  /movie/Star-Wars-Ep-VII-The-Force-Awakens#tab=...        306000000   \n",
       "4           /movie/Avengers-Infinity-War#tab=summary        300000000   \n",
       "\n",
       "   domestic_gross  worldwide_gross  opening_weekend   mpaa      genre  \\\n",
       "0       858373000       2797800564      357115007.0  PG-13     Action   \n",
       "1       241071802       1045713802       90151958.0  PG-13  Adventure   \n",
       "2       459005868       1395316979      191271109.0  PG-13     Action   \n",
       "3       936662225       2064615817      247966675.0  PG-13  Adventure   \n",
       "4       678815482       2048359754      257698183.0  PG-13     Action   \n",
       "\n",
       "   theaters  runtime    year  \n",
       "0    4662.0    181.0  2019.0  \n",
       "1    4164.0    136.0  2011.0  \n",
       "2    4276.0    141.0  2015.0  \n",
       "3    4134.0    136.0  2015.0  \n",
       "4    4474.0    156.0  2018.0  "
      ]
     },
     "execution_count": 5,
     "metadata": {},
     "output_type": "execute_result"
    }
   ],
   "source": [
    "data = pd.read_csv('C:/Users/Rustam/Desktop/Учеба/ИИ БД Этика/top-500-movies.csv')\n",
    "data.head()"
   ]
  },
  {
   "cell_type": "code",
   "execution_count": 6,
   "id": "2b7ed1ac",
   "metadata": {},
   "outputs": [
    {
     "data": {
      "text/html": [
       "<div>\n",
       "<style scoped>\n",
       "    .dataframe tbody tr th:only-of-type {\n",
       "        vertical-align: middle;\n",
       "    }\n",
       "\n",
       "    .dataframe tbody tr th {\n",
       "        vertical-align: top;\n",
       "    }\n",
       "\n",
       "    .dataframe thead th {\n",
       "        text-align: right;\n",
       "    }\n",
       "</style>\n",
       "<table border=\"1\" class=\"dataframe\">\n",
       "  <thead>\n",
       "    <tr style=\"text-align: right;\">\n",
       "      <th></th>\n",
       "      <th>rank</th>\n",
       "      <th>production_cost</th>\n",
       "      <th>domestic_gross</th>\n",
       "      <th>worldwide_gross</th>\n",
       "      <th>opening_weekend</th>\n",
       "      <th>theaters</th>\n",
       "      <th>runtime</th>\n",
       "      <th>year</th>\n",
       "    </tr>\n",
       "  </thead>\n",
       "  <tbody>\n",
       "    <tr>\n",
       "      <th>count</th>\n",
       "      <td>500.000000</td>\n",
       "      <td>5.000000e+02</td>\n",
       "      <td>5.000000e+02</td>\n",
       "      <td>5.000000e+02</td>\n",
       "      <td>4.790000e+02</td>\n",
       "      <td>479.000000</td>\n",
       "      <td>487.000000</td>\n",
       "      <td>499.000000</td>\n",
       "    </tr>\n",
       "    <tr>\n",
       "      <th>mean</th>\n",
       "      <td>250.500000</td>\n",
       "      <td>1.494954e+08</td>\n",
       "      <td>1.696114e+08</td>\n",
       "      <td>4.697776e+08</td>\n",
       "      <td>5.429206e+07</td>\n",
       "      <td>3659.770355</td>\n",
       "      <td>121.885010</td>\n",
       "      <td>2011.394790</td>\n",
       "    </tr>\n",
       "    <tr>\n",
       "      <th>std</th>\n",
       "      <td>144.481833</td>\n",
       "      <td>4.774040e+07</td>\n",
       "      <td>1.421642e+08</td>\n",
       "      <td>3.850620e+08</td>\n",
       "      <td>4.619796e+07</td>\n",
       "      <td>546.018902</td>\n",
       "      <td>22.399642</td>\n",
       "      <td>6.560688</td>\n",
       "    </tr>\n",
       "    <tr>\n",
       "      <th>min</th>\n",
       "      <td>1.000000</td>\n",
       "      <td>9.100000e+07</td>\n",
       "      <td>0.000000e+00</td>\n",
       "      <td>0.000000e+00</td>\n",
       "      <td>4.855800e+04</td>\n",
       "      <td>30.000000</td>\n",
       "      <td>76.000000</td>\n",
       "      <td>1991.000000</td>\n",
       "    </tr>\n",
       "    <tr>\n",
       "      <th>25%</th>\n",
       "      <td>125.750000</td>\n",
       "      <td>1.100000e+08</td>\n",
       "      <td>7.047110e+07</td>\n",
       "      <td>2.122188e+08</td>\n",
       "      <td>2.421873e+07</td>\n",
       "      <td>3378.500000</td>\n",
       "      <td>104.500000</td>\n",
       "      <td>2007.000000</td>\n",
       "    </tr>\n",
       "    <tr>\n",
       "      <th>50%</th>\n",
       "      <td>250.500000</td>\n",
       "      <td>1.400000e+08</td>\n",
       "      <td>1.318470e+08</td>\n",
       "      <td>3.671458e+08</td>\n",
       "      <td>4.167120e+07</td>\n",
       "      <td>3735.000000</td>\n",
       "      <td>120.000000</td>\n",
       "      <td>2012.000000</td>\n",
       "    </tr>\n",
       "    <tr>\n",
       "      <th>75%</th>\n",
       "      <td>375.250000</td>\n",
       "      <td>1.750000e+08</td>\n",
       "      <td>2.185998e+08</td>\n",
       "      <td>6.484251e+08</td>\n",
       "      <td>6.812391e+07</td>\n",
       "      <td>4065.000000</td>\n",
       "      <td>135.000000</td>\n",
       "      <td>2016.000000</td>\n",
       "    </tr>\n",
       "    <tr>\n",
       "      <th>max</th>\n",
       "      <td>500.000000</td>\n",
       "      <td>4.000000e+08</td>\n",
       "      <td>9.366622e+08</td>\n",
       "      <td>2.910371e+09</td>\n",
       "      <td>3.571150e+08</td>\n",
       "      <td>4802.000000</td>\n",
       "      <td>210.000000</td>\n",
       "      <td>2023.000000</td>\n",
       "    </tr>\n",
       "  </tbody>\n",
       "</table>\n",
       "</div>"
      ],
      "text/plain": [
       "             rank  production_cost  domestic_gross  worldwide_gross  \\\n",
       "count  500.000000     5.000000e+02    5.000000e+02     5.000000e+02   \n",
       "mean   250.500000     1.494954e+08    1.696114e+08     4.697776e+08   \n",
       "std    144.481833     4.774040e+07    1.421642e+08     3.850620e+08   \n",
       "min      1.000000     9.100000e+07    0.000000e+00     0.000000e+00   \n",
       "25%    125.750000     1.100000e+08    7.047110e+07     2.122188e+08   \n",
       "50%    250.500000     1.400000e+08    1.318470e+08     3.671458e+08   \n",
       "75%    375.250000     1.750000e+08    2.185998e+08     6.484251e+08   \n",
       "max    500.000000     4.000000e+08    9.366622e+08     2.910371e+09   \n",
       "\n",
       "       opening_weekend     theaters     runtime         year  \n",
       "count     4.790000e+02   479.000000  487.000000   499.000000  \n",
       "mean      5.429206e+07  3659.770355  121.885010  2011.394790  \n",
       "std       4.619796e+07   546.018902   22.399642     6.560688  \n",
       "min       4.855800e+04    30.000000   76.000000  1991.000000  \n",
       "25%       2.421873e+07  3378.500000  104.500000  2007.000000  \n",
       "50%       4.167120e+07  3735.000000  120.000000  2012.000000  \n",
       "75%       6.812391e+07  4065.000000  135.000000  2016.000000  \n",
       "max       3.571150e+08  4802.000000  210.000000  2023.000000  "
      ]
     },
     "execution_count": 6,
     "metadata": {},
     "output_type": "execute_result"
    }
   ],
   "source": [
    "data.describe()"
   ]
  },
  {
   "cell_type": "code",
   "execution_count": 7,
   "id": "2778c7f2",
   "metadata": {},
   "outputs": [
    {
     "name": "stdout",
     "output_type": "stream",
     "text": [
      "<class 'pandas.core.frame.DataFrame'>\n",
      "RangeIndex: 500 entries, 0 to 499\n",
      "Data columns (total 13 columns):\n",
      " #   Column           Non-Null Count  Dtype  \n",
      "---  ------           --------------  -----  \n",
      " 0   rank             500 non-null    int64  \n",
      " 1   release_date     499 non-null    object \n",
      " 2   title            500 non-null    object \n",
      " 3   url              500 non-null    object \n",
      " 4   production_cost  500 non-null    int64  \n",
      " 5   domestic_gross   500 non-null    int64  \n",
      " 6   worldwide_gross  500 non-null    int64  \n",
      " 7   opening_weekend  479 non-null    float64\n",
      " 8   mpaa             492 non-null    object \n",
      " 9   genre            495 non-null    object \n",
      " 10  theaters         479 non-null    float64\n",
      " 11  runtime          487 non-null    float64\n",
      " 12  year             499 non-null    float64\n",
      "dtypes: float64(4), int64(4), object(5)\n",
      "memory usage: 50.9+ KB\n"
     ]
    }
   ],
   "source": [
    "data.info()"
   ]
  },
  {
   "cell_type": "code",
   "execution_count": 8,
   "id": "5509668f",
   "metadata": {},
   "outputs": [],
   "source": [
    "data['worldwide_gross'] = data['worldwide_gross'].replace(0, \n",
    "    data['worldwide_gross'].mean())"
   ]
  },
  {
   "cell_type": "code",
   "execution_count": 9,
   "id": "2236fe12",
   "metadata": {},
   "outputs": [
    {
     "data": {
      "text/html": [
       "<div>\n",
       "<style scoped>\n",
       "    .dataframe tbody tr th:only-of-type {\n",
       "        vertical-align: middle;\n",
       "    }\n",
       "\n",
       "    .dataframe tbody tr th {\n",
       "        vertical-align: top;\n",
       "    }\n",
       "\n",
       "    .dataframe thead th {\n",
       "        text-align: right;\n",
       "    }\n",
       "</style>\n",
       "<table border=\"1\" class=\"dataframe\">\n",
       "  <thead>\n",
       "    <tr style=\"text-align: right;\">\n",
       "      <th></th>\n",
       "      <th>rank</th>\n",
       "      <th>production_cost</th>\n",
       "      <th>domestic_gross</th>\n",
       "      <th>worldwide_gross</th>\n",
       "      <th>opening_weekend</th>\n",
       "      <th>theaters</th>\n",
       "      <th>runtime</th>\n",
       "      <th>year</th>\n",
       "    </tr>\n",
       "  </thead>\n",
       "  <tbody>\n",
       "    <tr>\n",
       "      <th>count</th>\n",
       "      <td>500.000000</td>\n",
       "      <td>5.000000e+02</td>\n",
       "      <td>5.000000e+02</td>\n",
       "      <td>5.000000e+02</td>\n",
       "      <td>4.790000e+02</td>\n",
       "      <td>479.000000</td>\n",
       "      <td>487.000000</td>\n",
       "      <td>499.000000</td>\n",
       "    </tr>\n",
       "    <tr>\n",
       "      <th>mean</th>\n",
       "      <td>250.500000</td>\n",
       "      <td>1.494954e+08</td>\n",
       "      <td>1.696114e+08</td>\n",
       "      <td>4.772940e+08</td>\n",
       "      <td>5.429206e+07</td>\n",
       "      <td>3659.770355</td>\n",
       "      <td>121.885010</td>\n",
       "      <td>2011.394790</td>\n",
       "    </tr>\n",
       "    <tr>\n",
       "      <th>std</th>\n",
       "      <td>144.481833</td>\n",
       "      <td>4.774040e+07</td>\n",
       "      <td>1.421642e+08</td>\n",
       "      <td>3.803656e+08</td>\n",
       "      <td>4.619796e+07</td>\n",
       "      <td>546.018902</td>\n",
       "      <td>22.399642</td>\n",
       "      <td>6.560688</td>\n",
       "    </tr>\n",
       "    <tr>\n",
       "      <th>min</th>\n",
       "      <td>1.000000</td>\n",
       "      <td>9.100000e+07</td>\n",
       "      <td>0.000000e+00</td>\n",
       "      <td>7.561500e+04</td>\n",
       "      <td>4.855800e+04</td>\n",
       "      <td>30.000000</td>\n",
       "      <td>76.000000</td>\n",
       "      <td>1991.000000</td>\n",
       "    </tr>\n",
       "    <tr>\n",
       "      <th>25%</th>\n",
       "      <td>125.750000</td>\n",
       "      <td>1.100000e+08</td>\n",
       "      <td>7.047110e+07</td>\n",
       "      <td>2.186490e+08</td>\n",
       "      <td>2.421873e+07</td>\n",
       "      <td>3378.500000</td>\n",
       "      <td>104.500000</td>\n",
       "      <td>2007.000000</td>\n",
       "    </tr>\n",
       "    <tr>\n",
       "      <th>50%</th>\n",
       "      <td>250.500000</td>\n",
       "      <td>1.400000e+08</td>\n",
       "      <td>1.318470e+08</td>\n",
       "      <td>3.778758e+08</td>\n",
       "      <td>4.167120e+07</td>\n",
       "      <td>3735.000000</td>\n",
       "      <td>120.000000</td>\n",
       "      <td>2012.000000</td>\n",
       "    </tr>\n",
       "    <tr>\n",
       "      <th>75%</th>\n",
       "      <td>375.250000</td>\n",
       "      <td>1.750000e+08</td>\n",
       "      <td>2.185998e+08</td>\n",
       "      <td>6.484251e+08</td>\n",
       "      <td>6.812391e+07</td>\n",
       "      <td>4065.000000</td>\n",
       "      <td>135.000000</td>\n",
       "      <td>2016.000000</td>\n",
       "    </tr>\n",
       "    <tr>\n",
       "      <th>max</th>\n",
       "      <td>500.000000</td>\n",
       "      <td>4.000000e+08</td>\n",
       "      <td>9.366622e+08</td>\n",
       "      <td>2.910371e+09</td>\n",
       "      <td>3.571150e+08</td>\n",
       "      <td>4802.000000</td>\n",
       "      <td>210.000000</td>\n",
       "      <td>2023.000000</td>\n",
       "    </tr>\n",
       "  </tbody>\n",
       "</table>\n",
       "</div>"
      ],
      "text/plain": [
       "             rank  production_cost  domestic_gross  worldwide_gross  \\\n",
       "count  500.000000     5.000000e+02    5.000000e+02     5.000000e+02   \n",
       "mean   250.500000     1.494954e+08    1.696114e+08     4.772940e+08   \n",
       "std    144.481833     4.774040e+07    1.421642e+08     3.803656e+08   \n",
       "min      1.000000     9.100000e+07    0.000000e+00     7.561500e+04   \n",
       "25%    125.750000     1.100000e+08    7.047110e+07     2.186490e+08   \n",
       "50%    250.500000     1.400000e+08    1.318470e+08     3.778758e+08   \n",
       "75%    375.250000     1.750000e+08    2.185998e+08     6.484251e+08   \n",
       "max    500.000000     4.000000e+08    9.366622e+08     2.910371e+09   \n",
       "\n",
       "       opening_weekend     theaters     runtime         year  \n",
       "count     4.790000e+02   479.000000  487.000000   499.000000  \n",
       "mean      5.429206e+07  3659.770355  121.885010  2011.394790  \n",
       "std       4.619796e+07   546.018902   22.399642     6.560688  \n",
       "min       4.855800e+04    30.000000   76.000000  1991.000000  \n",
       "25%       2.421873e+07  3378.500000  104.500000  2007.000000  \n",
       "50%       4.167120e+07  3735.000000  120.000000  2012.000000  \n",
       "75%       6.812391e+07  4065.000000  135.000000  2016.000000  \n",
       "max       3.571150e+08  4802.000000  210.000000  2023.000000  "
      ]
     },
     "execution_count": 9,
     "metadata": {},
     "output_type": "execute_result"
    }
   ],
   "source": [
    "data.describe()"
   ]
  },
  {
   "cell_type": "code",
   "execution_count": 10,
   "id": "5de00235",
   "metadata": {},
   "outputs": [
    {
     "data": {
      "text/plain": [
       "Text(0, 0.5, 'Кассовые сборы')"
      ]
     },
     "execution_count": 10,
     "metadata": {},
     "output_type": "execute_result"
    },
    {
     "data": {
      "image/png": "[encoded data removed]",
      "text/plain": [
       "<Figure size 640x480 with 1 Axes>"
      ]
     },
     "metadata": {},
     "output_type": "display_data"
    }
   ],
   "source": [
    "plt.scatter(data.production_cost, data.worldwide_gross)\n",
    "plt.xlabel('Бюджет')\n",
    "plt.ylabel('Кассовые сборы')"
   ]
  },
  {
   "cell_type": "code",
   "execution_count": 11,
   "id": "426a8e6f",
   "metadata": {},
   "outputs": [],
   "source": [
    "model = LinearRegression()"
   ]
  },
  {
   "cell_type": "code",
   "execution_count": 12,
   "id": "465c6eba",
   "metadata": {},
   "outputs": [],
   "source": [
    "X = pd.DataFrame(data.production_cost)\n",
    "y = pd.DataFrame(data.worldwide_gross)"
   ]
  },
  {
   "cell_type": "code",
   "execution_count": 13,
   "id": "1fb8b5ed",
   "metadata": {},
   "outputs": [
    {
     "data": {
      "text/html": [
       "<style>#sk-container-id-1 {color: black;background-color: white;}#sk-container-id-1 pre{padding: 0;}#sk-container-id-1 div.sk-toggleable {background-color: white;}#sk-container-id-1 label.sk-toggleable__label {cursor: pointer;display: block;width: 100%;margin-bottom: 0;padding: 0.3em;box-sizing: border-box;text-align: center;}#sk-container-id-1 label.sk-toggleable__label-arrow:before {content: \"▸\";float: left;margin-right: 0.25em;color: #696969;}#sk-container-id-1 label.sk-toggleable__label-arrow:hover:before {color: black;}#sk-container-id-1 div.sk-estimator:hover label.sk-toggleable__label-arrow:before {color: black;}#sk-container-id-1 div.sk-toggleable__content {max-height: 0;max-width: 0;overflow: hidden;text-align: left;background-color: #f0f8ff;}#sk-container-id-1 div.sk-toggleable__content pre {margin: 0.2em;color: black;border-radius: 0.25em;background-color: #f0f8ff;}#sk-container-id-1 input.sk-toggleable__control:checked~div.sk-toggleable__content {max-height: 200px;max-width: 100%;overflow: auto;}#sk-container-id-1 input.sk-toggleable__control:checked~label.sk-toggleable__label-arrow:before {content: \"▾\";}#sk-container-id-1 div.sk-estimator input.sk-toggleable__control:checked~label.sk-toggleable__label {background-color: #d4ebff;}#sk-container-id-1 div.sk-label input.sk-toggleable__control:checked~label.sk-toggleable__label {background-color: #d4ebff;}#sk-container-id-1 input.sk-hidden--visually {border: 0;clip: rect(1px 1px 1px 1px);clip: rect(1px, 1px, 1px, 1px);height: 1px;margin: -1px;overflow: hidden;padding: 0;position: absolute;width: 1px;}#sk-container-id-1 div.sk-estimator {font-family: monospace;background-color: #f0f8ff;border: 1px dotted black;border-radius: 0.25em;box-sizing: border-box;margin-bottom: 0.5em;}#sk-container-id-1 div.sk-estimator:hover {background-color: #d4ebff;}#sk-container-id-1 div.sk-parallel-item::after {content: \"\";width: 100%;border-bottom: 1px solid gray;flex-grow: 1;}#sk-container-id-1 div.sk-label:hover label.sk-toggleable__label {background-color: #d4ebff;}#sk-container-id-1 div.sk-serial::before {content: \"\";position: absolute;border-left: 1px solid gray;box-sizing: border-box;top: 0;bottom: 0;left: 50%;z-index: 0;}#sk-container-id-1 div.sk-serial {display: flex;flex-direction: column;align-items: center;background-color: white;padding-right: 0.2em;padding-left: 0.2em;position: relative;}#sk-container-id-1 div.sk-item {position: relative;z-index: 1;}#sk-container-id-1 div.sk-parallel {display: flex;align-items: stretch;justify-content: center;background-color: white;position: relative;}#sk-container-id-1 div.sk-item::before, #sk-container-id-1 div.sk-parallel-item::before {content: \"\";position: absolute;border-left: 1px solid gray;box-sizing: border-box;top: 0;bottom: 0;left: 50%;z-index: -1;}#sk-container-id-1 div.sk-parallel-item {display: flex;flex-direction: column;z-index: 1;position: relative;background-color: white;}#sk-container-id-1 div.sk-parallel-item:first-child::after {align-self: flex-end;width: 50%;}#sk-container-id-1 div.sk-parallel-item:last-child::after {align-self: flex-start;width: 50%;}#sk-container-id-1 div.sk-parallel-item:only-child::after {width: 0;}#sk-container-id-1 div.sk-dashed-wrapped {border: 1px dashed gray;margin: 0 0.4em 0.5em 0.4em;box-sizing: border-box;padding-bottom: 0.4em;background-color: white;}#sk-container-id-1 div.sk-label label {font-family: monospace;font-weight: bold;display: inline-block;line-height: 1.2em;}#sk-container-id-1 div.sk-label-container {text-align: center;}#sk-container-id-1 div.sk-container {/* jupyter's `normalize.less` sets `[hidden] { display: none; }` but bootstrap.min.css set `[hidden] { display: none !important; }` so we also need the `!important` here to be able to override the default hidden behavior on the sphinx rendered scikit-learn.org. See: https://github.com/scikit-learn/scikit-learn/issues/21755 */display: inline-block !important;position: relative;}#sk-container-id-1 div.sk-text-repr-fallback {display: none;}</style><div id=\"sk-container-id-1\" class=\"sk-top-container\"><div class=\"sk-text-repr-fallback\"><pre>LinearRegression()</pre><b>In a Jupyter environment, please rerun this cell to show the HTML representation or trust the notebook. <br />On GitHub, the HTML representation is unable to render, please try loading this page with nbviewer.org.</b></div><div class=\"sk-container\" hidden><div class=\"sk-item\"><div class=\"sk-estimator sk-toggleable\"><input class=\"sk-toggleable__control sk-hidden--visually\" id=\"sk-estimator-id-1\" type=\"checkbox\" checked><label for=\"sk-estimator-id-1\" class=\"sk-toggleable__label sk-toggleable__label-arrow\">LinearRegression</label><div class=\"sk-toggleable__content\"><pre>LinearRegression()</pre></div></div></div></div></div>"
      ],
      "text/plain": [
       "LinearRegression()"
      ]
     },
     "execution_count": 13,
     "metadata": {},
     "output_type": "execute_result"
    }
   ],
   "source": [
    "model.fit(X, y)"
   ]
  },
  {
   "cell_type": "code",
   "execution_count": 14,
   "id": "3d71defe",
   "metadata": {},
   "outputs": [
    {
     "data": {
      "text/plain": [
       "array([[4.30606644]])"
      ]
     },
     "execution_count": 14,
     "metadata": {},
     "output_type": "execute_result"
    }
   ],
   "source": [
    "model.coef_"
   ]
  },
  {
   "cell_type": "code",
   "execution_count": 15,
   "id": "0b7ecbd8",
   "metadata": {},
   "outputs": [
    {
     "data": {
      "text/plain": [
       "Text(0, 0.5, 'Кассовые сборы')"
      ]
     },
     "execution_count": 15,
     "metadata": {},
     "output_type": "execute_result"
    },
    {
     "data": {
      "image/png": "[encoded data removed]",
      "text/plain": [
       "<Figure size 640x480 with 1 Axes>"
      ]
     },
     "metadata": {},
     "output_type": "display_data"
    }
   ],
   "source": [
    "plt.scatter(data.production_cost, data.worldwide_gross)\n",
    "plt.plot(X, model.predict(X), color = 'red', linewidth = 3)\n",
    "plt.xlabel('Бюджет')\n",
    "plt.ylabel('Кассовые сборы')"
   ]
  },
  {
   "cell_type": "code",
   "execution_count": 16,
   "id": "2fdd1ab2",
   "metadata": {},
   "outputs": [
    {
     "data": {
      "text/plain": [
       "0.2920996568732388"
      ]
     },
     "execution_count": 16,
     "metadata": {},
     "output_type": "execute_result"
    }
   ],
   "source": [
    "model.score(X, y)"
   ]
  },
  {
   "cell_type": "code",
   "execution_count": 17,
   "id": "2e557888",
   "metadata": {},
   "outputs": [
    {
     "name": "stderr",
     "output_type": "stream",
     "text": [
      "C:\\Users\\Rustam\\AppData\\Local\\Programs\\Python\\Python310\\lib\\site-packages\\sklearn\\base.py:450: UserWarning: X does not have valid feature names, but LinearRegression was fitted with feature names\n",
      "  warnings.warn(\n"
     ]
    },
    {
     "data": {
      "text/plain": [
       "array([[2.64163525e+08]])"
      ]
     },
     "execution_count": 17,
     "metadata": {},
     "output_type": "execute_result"
    }
   ],
   "source": [
    "model.predict([[100000000]])"
   ]
  },
  {
   "cell_type": "code",
   "execution_count": null,
   "id": "b61b2a9c",
   "metadata": {},
   "outputs": [],
   "source": []
  }
 ],
 "metadata": {
  "kernelspec": {
   "display_name": "Python 3 (ipykernel)",
   "language": "python",
   "name": "python3"
  },
  "language_info": {
   "codemirror_mode": {
    "name": "ipython",
    "version": 3
   },
   "file_extension": ".py",
   "mimetype": "text/x-python",
   "name": "python",
   "nbconvert_exporter": "python",
   "pygments_lexer": "ipython3",
   "version": "3.10.8"
  }
 },
 "nbformat": 4,
 "nbformat_minor": 5
}
